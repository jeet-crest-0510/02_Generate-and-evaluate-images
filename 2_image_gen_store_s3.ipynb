{
 "cells": [
  {
   "cell_type": "code",
   "execution_count": 1,
   "metadata": {},
   "outputs": [],
   "source": [
    "import base64\n",
    "import json\n",
    "import os\n",
    "import random\n",
    "\n",
    "import boto3"
   ]
  },
  {
   "cell_type": "code",
   "execution_count": 2,
   "metadata": {},
   "outputs": [],
   "source": [
    "# Create a Bedrock Runtime client in the AWS Region of your choice.\n",
    "client = boto3.client(\"bedrock-runtime\", region_name=\"us-east-1\")\n",
    "s3_client = boto3.client(\"s3\")"
   ]
  },
  {
   "cell_type": "code",
   "execution_count": 3,
   "metadata": {},
   "outputs": [],
   "source": [
    "# Set the model ID.\n",
    "model_id = \"amazon.titan-image-generator-v1\""
   ]
  },
  {
   "cell_type": "code",
   "execution_count": 17,
   "metadata": {},
   "outputs": [],
   "source": [
    "# Get user input for the image generation prompt.\n",
    "prompt = input(\"Enter your image description: \")"
   ]
  },
  {
   "cell_type": "code",
   "execution_count": 18,
   "metadata": {},
   "outputs": [
    {
     "data": {
      "text/plain": [
       "'Lion'"
      ]
     },
     "execution_count": 18,
     "metadata": {},
     "output_type": "execute_result"
    }
   ],
   "source": [
    "prompt\n"
   ]
  },
  {
   "cell_type": "code",
   "execution_count": 19,
   "metadata": {},
   "outputs": [],
   "source": [
    "# Generate a random seed between 0 and 858,993,459\n",
    "seed = random.randint(0, 858993460)\n",
    "\n",
    "# Format the request payload using the model's native structure.\n",
    "native_request = {\n",
    "    \"taskType\": \"TEXT_IMAGE\",\n",
    "    \"textToImageParams\": {\"text\": prompt},\n",
    "    \"imageGenerationConfig\": {\n",
    "        \"numberOfImages\": 1,\n",
    "        \"quality\": \"standard\",\n",
    "        \"cfgScale\": 8.0,\n",
    "        \"height\": 512,\n",
    "        \"width\": 512,\n",
    "        \"seed\": seed,\n",
    "    },\n",
    "}"
   ]
  },
  {
   "cell_type": "code",
   "execution_count": 20,
   "metadata": {},
   "outputs": [],
   "source": [
    "# Convert the native request to JSON.\n",
    "request = json.dumps(native_request)"
   ]
  },
  {
   "cell_type": "code",
   "execution_count": 21,
   "metadata": {},
   "outputs": [],
   "source": [
    "# Invoke the model with the request.\n",
    "response = client.invoke_model(\n",
    "    modelId=model_id,\n",
    "    body=request,\n",
    "    contentType=\"application/json\",\n",
    "    accept=\"application/json\"\n",
    ")"
   ]
  },
  {
   "cell_type": "code",
   "execution_count": 22,
   "metadata": {},
   "outputs": [],
   "source": [
    "# Decode the response body.\n",
    "model_response = json.loads(response[\"body\"].read())\n",
    "\n",
    "# Extract the image data.\n",
    "base64_image_data = model_response[\"images\"][0]\n",
    "\n",
    "# Decode image data\n",
    "image_data = base64.b64decode(base64_image_data)"
   ]
  },
  {
   "cell_type": "code",
   "execution_count": 23,
   "metadata": {},
   "outputs": [],
   "source": [
    "# Define S3 bucket details\n",
    "bucket_name = \"jeet-store-generated-image\""
   ]
  },
  {
   "cell_type": "code",
   "execution_count": 24,
   "metadata": {},
   "outputs": [],
   "source": [
    "image_filename = f\"generated_images/titan_{seed}.png\""
   ]
  },
  {
   "cell_type": "code",
   "execution_count": 25,
   "metadata": {},
   "outputs": [
    {
     "data": {
      "text/plain": [
       "{'ResponseMetadata': {'RequestId': '02FXKW56SAQ87JD1',\n",
       "  'HostId': 'Qjn1NwO9O9noIYtuwxvIVv0VajtsXA+ay5ZDnFJYEQk1swQAn9vtRCB0CDC+SNPp7ZA0EcZ/rFw=',\n",
       "  'HTTPStatusCode': 200,\n",
       "  'HTTPHeaders': {'x-amz-id-2': 'Qjn1NwO9O9noIYtuwxvIVv0VajtsXA+ay5ZDnFJYEQk1swQAn9vtRCB0CDC+SNPp7ZA0EcZ/rFw=',\n",
       "   'x-amz-request-id': '02FXKW56SAQ87JD1',\n",
       "   'date': 'Thu, 06 Mar 2025 08:08:41 GMT',\n",
       "   'x-amz-server-side-encryption': 'AES256',\n",
       "   'etag': '\"13c86743c4c1af5c1c02b34c987a30d7\"',\n",
       "   'x-amz-checksum-crc32': 'IIsnwg==',\n",
       "   'x-amz-checksum-type': 'FULL_OBJECT',\n",
       "   'content-length': '0',\n",
       "   'server': 'AmazonS3'},\n",
       "  'RetryAttempts': 0},\n",
       " 'ETag': '\"13c86743c4c1af5c1c02b34c987a30d7\"',\n",
       " 'ChecksumCRC32': 'IIsnwg==',\n",
       " 'ChecksumType': 'FULL_OBJECT',\n",
       " 'ServerSideEncryption': 'AES256'}"
      ]
     },
     "execution_count": 25,
     "metadata": {},
     "output_type": "execute_result"
    }
   ],
   "source": [
    "# Upload image directly to S3\n",
    "s3_client.put_object(\n",
    "    Bucket=bucket_name,\n",
    "    Key=image_filename,\n",
    "    Body=image_data,\n",
    "    ContentType=\"image/png\"  # Ensure the image displays in browser\n",
    ")"
   ]
  },
  {
   "cell_type": "code",
   "execution_count": 26,
   "metadata": {},
   "outputs": [
    {
     "name": "stdout",
     "output_type": "stream",
     "text": [
      "The generated image is available at: https://jeet-store-generated-image.s3.amazonaws.com/generated_images/titan_379035399.png\n"
     ]
    }
   ],
   "source": [
    "# Generate the S3 URL\n",
    "s3_url = f\"https://{bucket_name}.s3.amazonaws.com/{image_filename}\"\n",
    "print(f\"The generated image is available at: {s3_url}\")"
   ]
  }
 ],
 "metadata": {
  "kernelspec": {
   "display_name": "Python 3",
   "language": "python",
   "name": "python3"
  },
  "language_info": {
   "codemirror_mode": {
    "name": "ipython",
    "version": 3
   },
   "file_extension": ".py",
   "mimetype": "text/x-python",
   "name": "python",
   "nbconvert_exporter": "python",
   "pygments_lexer": "ipython3",
   "version": "3.13.2"
  }
 },
 "nbformat": 4,
 "nbformat_minor": 2
}
